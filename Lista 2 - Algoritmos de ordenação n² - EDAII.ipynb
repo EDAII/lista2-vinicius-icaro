{
 "cells": [
  {
   "cell_type": "code",
   "execution_count": 1,
   "metadata": {},
   "outputs": [],
   "source": [
    "test_cases = [\n",
    "    (\n",
    "        \"\"\"\n",
    "        5\n",
    "        a\n",
    "        aba\n",
    "        abacaba\n",
    "        ba\n",
    "        aba\n",
    "        \"\"\"\n",
    "    ),\n",
    "    (\n",
    "        \"\"\"\n",
    "        5\n",
    "        a\n",
    "        abacaba\n",
    "        ba\n",
    "        aba\n",
    "        abab\n",
    "        \"\"\"\n",
    "    ),\n",
    "    (\n",
    "        \"\"\"\n",
    "        3\n",
    "        qwerty\n",
    "        qwerty\n",
    "        qwerty\n",
    "        \"\"\"\n",
    "    )\n",
    "]"
   ]
  },
  {
   "cell_type": "code",
   "execution_count": 2,
   "metadata": {},
   "outputs": [],
   "source": [
    "def compare(string_a, string_b):\n",
    "    return string_b in string_a and string_a != string_b"
   ]
  },
  {
   "cell_type": "code",
   "execution_count": 3,
   "metadata": {},
   "outputs": [],
   "source": [
    "def check(strings):\n",
    "    for i in range(1, len(strings)):\n",
    "        if not (strings[i-1] in strings[i]):\n",
    "            return False\n",
    "    return True"
   ]
  },
  {
   "cell_type": "code",
   "execution_count": 7,
   "metadata": {},
   "outputs": [],
   "source": [
    "from functools import wraps\n",
    "from timeit import default_timer as timer\n",
    "\n",
    "def print_problem_output(sorted_strings):\n",
    "    print(f'------Caso de teste {i + 1}-------------------')\n",
    "    if check(sorted_strings):\n",
    "        print(\"YES\")\n",
    "        print('\\n'.join(sorted_strings))\n",
    "    else:\n",
    "        print('NO')\n",
    "    print('----------------------------------------', end='\\n\\n')\n",
    "\n",
    "executions_times = dict()\n",
    "    \n",
    "def check_sort_method_result(sort_method):\n",
    "    @wraps(sort_method)\n",
    "    def wrapper(*args, **kwargs):    \n",
    "        start_time = timer()\n",
    "        sorted_strings = sort_method(*args)\n",
    "        end_time = timer()\n",
    "        \n",
    "        global executions_times\n",
    "        executions_times.setdefault(sort_method.__name__, 0)\n",
    "        executions_times[sort_method.__name__] += end_time - start_time\n",
    "        \n",
    "        print_problem_output(sorted_strings)\n",
    "        \n",
    "        return sorted_strings\n",
    "        \n",
    "    return wrapper"
   ]
  },
  {
   "cell_type": "code",
   "execution_count": 5,
   "metadata": {},
   "outputs": [],
   "source": [
    "@check_sort_method_result\n",
    "def bubble_sort(strings):\n",
    "    def run():\n",
    "        flag = False\n",
    "        for i in range(1, len(strings)):\n",
    "            if compare(strings[i-1], strings[i]):\n",
    "                strings[i-1], strings[i], flag = strings[i], strings[i-1], True\n",
    "        return flag\n",
    "    \n",
    "    while run():\n",
    "        pass\n",
    "    \n",
    "    return strings"
   ]
  },
  {
   "cell_type": "code",
   "execution_count": 13,
   "metadata": {},
   "outputs": [
    {
     "name": "stdout",
     "output_type": "stream",
     "text": [
      "======================== bubble_sort =====================\n",
      "------Caso de teste 1-------------------\n",
      "YES\n",
      "a\n",
      "ba\n",
      "aba\n",
      "aba\n",
      "abacaba\n",
      "----------------------------------------\n",
      "\n",
      "------Caso de teste 2-------------------\n",
      "NO\n",
      "----------------------------------------\n",
      "\n",
      "------Caso de teste 3-------------------\n",
      "YES\n",
      "qwerty\n",
      "qwerty\n",
      "qwerty\n",
      "----------------------------------------\n",
      "\n",
      "=========================================================\n",
      "\n",
      "\n",
      "\n",
      "{'bubble_sort': 0.00017624600150156766}\n"
     ]
    }
   ],
   "source": [
    "sort_methods = [bubble_sort,]\n",
    "\n",
    "for sort_method in sort_methods:\n",
    "    print(f'======================== {sort_method.__name__} =====================')\n",
    "    for i, test_case in enumerate(test_cases):\n",
    "        n, *strings = test_case.split()\n",
    "        sort_method(strings)\n",
    "    print('=========================================================\\n\\n\\n')\n",
    "    \n",
    "print(executions_times)"
   ]
  },
  {
   "cell_type": "markdown",
   "metadata": {},
   "source": [
    "## Referências\n",
    "\n",
    "[Problema No Codeforces](http://codeforces.com/contest/988/problem/B])"
   ]
  }
 ],
 "metadata": {
  "kernelspec": {
   "display_name": "Python 3",
   "language": "python",
   "name": "python3"
  },
  "language_info": {
   "codemirror_mode": {
    "name": "ipython",
    "version": 3
   },
   "file_extension": ".py",
   "mimetype": "text/x-python",
   "name": "python",
   "nbconvert_exporter": "python",
   "pygments_lexer": "ipython3",
   "version": "3.7.0"
  }
 },
 "nbformat": 4,
 "nbformat_minor": 2
}
